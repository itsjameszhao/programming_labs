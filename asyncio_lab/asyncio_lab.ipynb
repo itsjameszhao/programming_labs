{
 "cells": [
  {
   "cell_type": "markdown",
   "id": "1bea8dbb-0b16-4819-b5bc-6d008d237f5a",
   "metadata": {},
   "source": [
    "## Asyncio Asynchronous Programming Lab\n",
    "This lab is designed to get you familiar with the concepts of asynchronous programming, distributed system architectures such as async client server, service, pub-sub, and layered architectures, and web interfaces / microservices interfaces to start contributing Python microservices for monitoring and observability within a large tech environment."
   ]
  },
  {
   "cell_type": "code",
   "execution_count": 1,
   "id": "c01909cd-9e67-49d5-95f2-84b11833083d",
   "metadata": {},
   "outputs": [
    {
     "name": "stdout",
     "output_type": "stream",
     "text": [
      "Hello world\n"
     ]
    }
   ],
   "source": [
    "print(\"Hello world\")"
   ]
  },
  {
   "cell_type": "code",
   "execution_count": 103,
   "id": "4900be2f-978b-4878-9e8c-faa3b7ea85fe",
   "metadata": {},
   "outputs": [],
   "source": [
    "import asyncio\n",
    "from time import time, sleep\n",
    "import requests\n",
    "import pdb"
   ]
  },
  {
   "cell_type": "code",
   "execution_count": 3,
   "id": "10d65b3a-0e5f-4831-8691-19f917f2abc9",
   "metadata": {},
   "outputs": [],
   "source": [
    "# This is a native coroutine\n",
    "async def add(x, y):\n",
    "    return x + y"
   ]
  },
  {
   "cell_type": "code",
   "execution_count": 4,
   "id": "ae99c8bc-d658-4b22-8e35-29d7ee40aab7",
   "metadata": {},
   "outputs": [],
   "source": [
    "# This is another native coroutine\n",
    "async def add_wrapper(x, y):\n",
    "    return await add(1, 2)"
   ]
  },
  {
   "cell_type": "code",
   "execution_count": 5,
   "id": "0f50d54c-4040-489a-b6d6-d78d47278f2c",
   "metadata": {},
   "outputs": [],
   "source": [
    "res = await add_wrapper(2, 3)"
   ]
  },
  {
   "cell_type": "markdown",
   "id": "cd9147ab-5e8e-4550-b3d2-fe24f314357c",
   "metadata": {},
   "source": [
    "# Exercise: Implement the timeit function decorator without arguments, and then implement it WITHD arguments (for rounding)"
   ]
  },
  {
   "cell_type": "code",
   "execution_count": 35,
   "id": "18f4eb98-955a-474b-a6d2-36bec8919edb",
   "metadata": {},
   "outputs": [],
   "source": [
    "def timeit(func, *args, **kwargs):\n",
    "    def wrapper():\n",
    "        start_time = time()\n",
    "        ret = func(*args, **kwargs)\n",
    "        end_time = time()\n",
    "        elapsed_time = round(end_time - start_time, 2)\n",
    "        print(f\"Total time elapsed for function {func.__name__}: {elapsed_time} seconds\")\n",
    "    return wrapper"
   ]
  },
  {
   "cell_type": "code",
   "execution_count": 40,
   "id": "14c3df61-a0ed-4ad7-9a5f-110ea7967339",
   "metadata": {},
   "outputs": [],
   "source": [
    "@timeit\n",
    "def hello():\n",
    "    sleep(0.0123)\n",
    "    print(\"hello\")"
   ]
  },
  {
   "cell_type": "code",
   "execution_count": 41,
   "id": "7e9599e5-a255-4093-b237-954a3dd84fcb",
   "metadata": {},
   "outputs": [
    {
     "name": "stdout",
     "output_type": "stream",
     "text": [
      "hello\n",
      "Total time elapsed for function hello: 0.01 seconds\n"
     ]
    }
   ],
   "source": [
    "hello()"
   ]
  },
  {
   "cell_type": "code",
   "execution_count": 62,
   "id": "e8f8a3e0-dfdb-46b8-8286-cf0c2829ce88",
   "metadata": {},
   "outputs": [
    {
     "data": {
      "text/plain": [
       "'a'"
      ]
     },
     "execution_count": 62,
     "metadata": {},
     "output_type": "execute_result"
    }
   ],
   "source": [
    "def a():\n",
    "    return\n",
    "a.__name__"
   ]
  },
  {
   "cell_type": "code",
   "execution_count": 86,
   "id": "a1c6cb76-89ab-4bb4-8ef0-7ef34aefca4b",
   "metadata": {},
   "outputs": [],
   "source": [
    "def timeit(sig_fig=3):\n",
    "    def _timeit(func, *args, **kwargs):\n",
    "        def wrapper():\n",
    "            start_time = time()\n",
    "            ret = func(*args, **kwargs)\n",
    "            end_time = time()\n",
    "            elapsed_time = round(end_time - start_time, sig_fig)\n",
    "            print(f\"Total time elapsed for function {func.__name__}: {elapsed_time} seconds\")\n",
    "            return ret\n",
    "        # Set wrapper name to calling function name\n",
    "        wrapper.__name__ = func.__name__\n",
    "        return wrapper\n",
    "    return _timeit"
   ]
  },
  {
   "cell_type": "code",
   "execution_count": 87,
   "id": "4b0cb3c0-9039-457c-8da7-514ab9389309",
   "metadata": {},
   "outputs": [],
   "source": [
    "@timeit()\n",
    "def hello():\n",
    "    sleep(0.0123)\n",
    "    print(\"hello\")"
   ]
  },
  {
   "cell_type": "code",
   "execution_count": 88,
   "id": "f32f7749-5bba-40fe-b3b5-0ce2f37a7900",
   "metadata": {},
   "outputs": [
    {
     "name": "stdout",
     "output_type": "stream",
     "text": [
      "hello\n",
      "Total time elapsed for function hello: 0.013 seconds\n"
     ]
    }
   ],
   "source": [
    "hello()"
   ]
  },
  {
   "cell_type": "code",
   "execution_count": 82,
   "id": "31cbb709-6a73-49dd-aad8-f86beeade1f3",
   "metadata": {},
   "outputs": [
    {
     "data": {
      "text/plain": [
       "'hello'"
      ]
     },
     "execution_count": 82,
     "metadata": {},
     "output_type": "execute_result"
    }
   ],
   "source": [
    "hello.__name__"
   ]
  },
  {
   "cell_type": "markdown",
   "id": "b6207254-dcbd-4380-bfe0-3f95bcd37805",
   "metadata": {},
   "source": [
    "# Exercise: Implement serial and async versions of blogdom.py (adapter for local server) and time their execution\n",
    "To do this, you will also need to set up a very simple echo server in another terminal. Do this with async."
   ]
  },
  {
   "cell_type": "code",
   "execution_count": 123,
   "id": "6aa91e27-a800-407e-86b7-37566421089f",
   "metadata": {},
   "outputs": [],
   "source": [
    "URL = \"http://127.0.0.1:9000\"\n",
    "N = 10\n",
    "\n",
    "@timeit()\n",
    "def serial_send_request():\n",
    "    response = requests.get(URL)\n",
    "    return response\n",
    "\n",
    "@timeit()\n",
    "async def async_send_request():\n",
    "    response = requests.get(URL)\n",
    "    return response"
   ]
  },
  {
   "cell_type": "code",
   "execution_count": 124,
   "id": "26bd19b2-bb01-41d4-b9a1-df0b598c2e67",
   "metadata": {},
   "outputs": [],
   "source": [
    "@timeit()\n",
    "def serial_multiple():\n",
    "    for _ in range(N):\n",
    "        response = serial_send_request()\n",
    "        print(f\"Response returned status code: {response.status_code if response else \"None\"}\")"
   ]
  },
  {
   "cell_type": "code",
   "execution_count": 92,
   "id": "e31ebce0-dda6-4c29-b7a6-0b8824683c34",
   "metadata": {},
   "outputs": [
    {
     "name": "stdout",
     "output_type": "stream",
     "text": [
      "Total time elapsed for function serial_send_request: 0.07 seconds\n",
      "Response returned status code: 200\n",
      "Total time elapsed for function serial_send_request: 0.47 seconds\n",
      "Response returned status code: 200\n",
      "Total time elapsed for function serial_send_request: 0.463 seconds\n",
      "Response returned status code: 200\n",
      "Total time elapsed for function serial_send_request: 0.959 seconds\n",
      "Response returned status code: 200\n",
      "Total time elapsed for function serial_send_request: 0.29 seconds\n",
      "Response returned status code: 200\n",
      "Total time elapsed for function serial_send_request: 0.431 seconds\n",
      "Response returned status code: 200\n",
      "Total time elapsed for function serial_send_request: 0.158 seconds\n",
      "Response returned status code: 200\n",
      "Total time elapsed for function serial_send_request: 0.823 seconds\n",
      "Response returned status code: 200\n",
      "Total time elapsed for function serial_send_request: 0.307 seconds\n",
      "Response returned status code: 200\n",
      "Total time elapsed for function serial_send_request: 0.28 seconds\n",
      "Response returned status code: 200\n",
      "Total time elapsed for function serial_multiple: 4.253 seconds\n"
     ]
    }
   ],
   "source": [
    "serial_multiple()"
   ]
  },
  {
   "cell_type": "code",
   "execution_count": 109,
   "id": "217ad867-b764-4b8a-b224-ac2f9dd17f5c",
   "metadata": {},
   "outputs": [
    {
     "name": "stdout",
     "output_type": "stream",
     "text": [
      "Total time elapsed for function async_send_request: 0.0 seconds\n"
     ]
    },
    {
     "data": {
      "text/plain": [
       "<Response [200]>"
      ]
     },
     "execution_count": 109,
     "metadata": {},
     "output_type": "execute_result"
    }
   ],
   "source": [
    "await async_send_request()\n"
   ]
  },
  {
   "cell_type": "code",
   "execution_count": 141,
   "id": "5c9f89d4-bf2c-4331-ad6d-4d81f97733e4",
   "metadata": {},
   "outputs": [],
   "source": [
    "# @timeit()\n",
    "async def async_multiple():\n",
    "    tasks = [async_send_request() for _ in range(N)]\n",
    "    for task in asyncio.as_completed(tasks):\n",
    "        response = await task\n",
    "        print(f\"Response returned status code: {response.status_code if response else None}\")"
   ]
  },
  {
   "cell_type": "code",
   "execution_count": 133,
   "id": "c410e5fb-ec85-446d-ba9d-8ea417c97032",
   "metadata": {},
   "outputs": [
    {
     "name": "stdout",
     "output_type": "stream",
     "text": [
      "Total time elapsed for function async_multiple: 0.0 seconds\n",
      "Total time elapsed for function async_send_request: 0.0 seconds\n",
      "Total time elapsed for function async_send_request: 0.0 seconds\n",
      "Total time elapsed for function async_send_request: 0.0 seconds\n",
      "Total time elapsed for function async_send_request: 0.0 seconds\n",
      "Total time elapsed for function async_send_request: 0.0 seconds\n",
      "Total time elapsed for function async_send_request: 0.0 seconds\n",
      "Total time elapsed for function async_send_request: 0.0 seconds\n",
      "Total time elapsed for function async_send_request: 0.0 seconds\n",
      "Total time elapsed for function async_send_request: 0.0 seconds\n",
      "Total time elapsed for function async_send_request: 0.0 seconds\n",
      "Response returned status code: 200\n",
      "Response returned status code: 200\n",
      "Response returned status code: 200\n",
      "Response returned status code: 200\n",
      "Response returned status code: 200\n",
      "Response returned status code: 200\n",
      "Response returned status code: 200\n",
      "Response returned status code: 200\n",
      "Response returned status code: 200\n",
      "Response returned status code: 200\n",
      "Real elapsed time: 5.59 secs\n"
     ]
    }
   ],
   "source": [
    "start_time = time()\n",
    "await async_multiple()\n",
    "end_time = time()\n",
    "print(f\"Real elapsed time: {end_time - start_time:.2f} secs\")"
   ]
  },
  {
   "cell_type": "markdown",
   "id": "2277b81f-e5e5-4a20-bcea-c7d72e9913d8",
   "metadata": {},
   "source": [
    "# Exercise: Fix the above asynchronous implementation and figure out why it's not working. Write at least 5 sentences explaining where you went wrong"
   ]
  },
  {
   "cell_type": "code",
   "execution_count": 158,
   "id": "7c8df6de-6a8d-4d48-834a-f08ad3d6c2cd",
   "metadata": {},
   "outputs": [],
   "source": [
    "@timeit()\n",
    "async def async_send_request():\n",
    "    loop = asyncio.get_running_loop()\n",
    "    response = await loop.run_in_executor(None, requests.get, URL)\n",
    "    return response"
   ]
  },
  {
   "cell_type": "code",
   "execution_count": 159,
   "id": "9f23fa3c-198a-4ff6-bcb9-e08a5030c973",
   "metadata": {},
   "outputs": [
    {
     "name": "stdout",
     "output_type": "stream",
     "text": [
      "Total time elapsed for function async_send_request: 0.0 seconds\n"
     ]
    }
   ],
   "source": [
    "resp = await async_send_request()"
   ]
  },
  {
   "cell_type": "code",
   "execution_count": 160,
   "id": "ed45da6c-e95a-4fec-8304-4a2360a988cd",
   "metadata": {},
   "outputs": [
    {
     "data": {
      "text/plain": [
       "<Response [200]>"
      ]
     },
     "execution_count": 160,
     "metadata": {},
     "output_type": "execute_result"
    }
   ],
   "source": [
    "resp"
   ]
  },
  {
   "cell_type": "code",
   "execution_count": 171,
   "id": "2ea81c47-a74d-43ae-bbea-d5c1defc4b45",
   "metadata": {},
   "outputs": [
    {
     "name": "stdout",
     "output_type": "stream",
     "text": [
      "Total time elapsed for function async_send_request: 0.0 seconds\n",
      "Total time elapsed for function async_send_request: 0.0 seconds\n",
      "Total time elapsed for function async_send_request: 0.0 seconds\n",
      "Total time elapsed for function async_send_request: 0.0 seconds\n",
      "Total time elapsed for function async_send_request: 0.0 seconds\n",
      "Total time elapsed for function async_send_request: 0.0 seconds\n",
      "Total time elapsed for function async_send_request: 0.0 seconds\n",
      "Total time elapsed for function async_send_request: 0.0 seconds\n",
      "Total time elapsed for function async_send_request: 0.0 seconds\n",
      "Total time elapsed for function async_send_request: 0.0 seconds\n",
      "Response returned status code: 200\n",
      "Response returned status code: 200\n",
      "Response returned status code: 200\n",
      "Response returned status code: 200\n",
      "Response returned status code: 200\n",
      "Response returned status code: 200\n",
      "Response returned status code: 200\n",
      "Response returned status code: 200\n",
      "Response returned status code: 200\n",
      "Response returned status code: 200\n",
      "Real elapsed time: 0.69 secs\n"
     ]
    }
   ],
   "source": [
    "start_time = time()\n",
    "await async_multiple()\n",
    "end_time = time()\n",
    "print(f\"Real elapsed time: {end_time - start_time:.2f} secs\")"
   ]
  },
  {
   "cell_type": "markdown",
   "id": "406b64b8-9871-442b-9d00-4a022a440fa4",
   "metadata": {},
   "source": [
    "What was the problem?\n",
    "\n",
    "The problem was twofold. Here is our original `async_send_request` function:\n",
    "\n",
    "```\n",
    "async def async_send_request():\n",
    "    response = requests.get(URL)\n",
    "    return response\n",
    "```\n",
    "\n",
    "The problem is in the line\n",
    "```\n",
    "response = requests.get(URL)\n",
    "```\n",
    "This is a SYNCHRONOUS, BLOCKING call. The golden rule in asynchronous programming is that all components of the system must be asynchronous. Otherwise, the event loop will never regain control, causing your performance gains to be lost. The solution is to let the event loop know about this call by running it within the context of the executor, like so:\n",
    "\n",
    "```\n",
    "response = await loop.run_in_executor(None, requests.get, URL)\n",
    "```\n",
    "\n",
    "The `run_in_executor` function lets asyncio know about the synchronous function. That way, it can do other things if it blocks. The `None` argument tells it to do it within the context of the default event loop. So the whole corrected function looks like so:\n",
    "\n",
    "```\n",
    "async def async_send_request():\n",
    "    loop = asyncio.get_running_loop()\n",
    "    response = await loop.run_in_executor(None, requests.get, URL)\n",
    "    return response\n",
    "```\n",
    "\n",
    "Now the whole thing is asynchronous!\n",
    "\n",
    "---\n",
    "\n",
    "The second problem is with the Tornado server. The original server code looked like so:\n",
    "\n",
    "```\n",
    "import asyncio\n",
    "import tornado\n",
    "import time\n",
    "from random import random\n",
    "\n",
    "class MainHandler(tornado.web.RequestHandler):\n",
    "    def get(self):\n",
    "        sleep_time = random()\n",
    "        time.sleep(sleep_time)\n",
    "        self.write(\"Hello, world\")\n",
    "\n",
    "def make_app():\n",
    "    return tornado.web.Application([\n",
    "        (r\"/\", MainHandler),\n",
    "    ])\n",
    "\n",
    "async def main():\n",
    "    app = make_app()\n",
    "    app.listen(8888)\n",
    "    await asyncio.Event().wait()\n",
    "\n",
    "if __name__ == \"__main__\":\n",
    "    asyncio.run(main())\n",
    "```\n",
    "\n",
    "However, there were several problems with the `get` function: it was synchronous!\n",
    "    - 1) The function was defined using `def get` instead of `async def get`, rendering it synchronous and therefore, blocking to the server's event loop.\n",
    "    - 2) The function used the synchronous `time.sleep(sleep_time)` which is again, blocking.\n",
    "\n",
    "The changes we made were to 1) redefine the function to be asynchronous and 2) replace the synchronous `time.sleep` with its asynchronous equivalent: `asyncio.sleep`. The complete code is below:\n",
    "\n",
    "```\n",
    "import asyncio\n",
    "import tornado\n",
    "from random import random\n",
    "\n",
    "class MainHandler(tornado.web.RequestHandler):\n",
    "    async def get(self):\n",
    "        sleep_time = random()\n",
    "        await asyncio.sleep(sleep_time)\n",
    "        self.write(f\"Slept for {sleep_time:.2f} seconds\")\n",
    "\n",
    "def make_app():\n",
    "    return tornado.web.Application([\n",
    "        (r\"/\", MainHandler),\n",
    "    ])\n",
    "\n",
    "async def main():\n",
    "    app = make_app()\n",
    "    app.listen(9000)\n",
    "    await asyncio.Event().wait()\n",
    "\n",
    "if __name__ == \"__main__\":\n",
    "    asyncio.run(main())\n",
    "```\n"
   ]
  },
  {
   "cell_type": "markdown",
   "id": "6a22b6d8-79be-4933-86f3-6ac5b23393c9",
   "metadata": {},
   "source": [
    "# Exercise: Fix the timeit decorator above and adapt it to be able work for both synchronous and asynchronous \n",
    "\n",
    "Make it as good as possible with minimal duplication of code.\n",
    "Also write at least 5 sentences on why the previous naive version didn't work for asynchronous functions."
   ]
  },
  {
   "cell_type": "code",
   "execution_count": 203,
   "id": "8f7474da-97e0-44c2-9582-632530495846",
   "metadata": {},
   "outputs": [],
   "source": [
    "import inspect\n",
    "from functools import wraps\n",
    "\n",
    "def timeit_fixed(sig_fig=3):\n",
    "    def _timeit(func):\n",
    "        if inspect.iscoroutinefunction(func):\n",
    "            \n",
    "            @wraps(func)\n",
    "            async def async_wrapper(*args, **kwargs):\n",
    "                start_time = time()\n",
    "                ret = await func(*args, **kwargs)\n",
    "                end_time = time()\n",
    "                elapsed_time = round(end_time - start_time, sig_fig)\n",
    "                print(f\"Total time elapsed for asynchronous function {func.__name__}: {elapsed_time} seconds\")\n",
    "                return ret\n",
    "            wrapper = async_wrapper\n",
    "        else:\n",
    "\n",
    "            @wraps(func)\n",
    "            def sync_wrapper(*args, **kwargs):\n",
    "                start_time = time()\n",
    "                ret = func(*args, **kwargs)\n",
    "                end_time = time()\n",
    "                elapsed_time = round(end_time - start_time, sig_fig)\n",
    "                print(f\"Total time elapsed for synchronous function {func.__name__}: {elapsed_time} seconds\")\n",
    "                return ret\n",
    "            wrapper = sync_wrapper\n",
    "\n",
    "        return wrapper\n",
    "    return _timeit"
   ]
  },
  {
   "cell_type": "code",
   "execution_count": 204,
   "id": "c6033763-8f80-4542-8154-3031bc5d82c4",
   "metadata": {},
   "outputs": [],
   "source": [
    "@timeit_fixed()\n",
    "async def async_send_request():\n",
    "    loop = asyncio.get_running_loop()\n",
    "    response = await loop.run_in_executor(None, requests.get, URL)\n",
    "    return response"
   ]
  },
  {
   "cell_type": "code",
   "execution_count": 205,
   "id": "53bee8da-40a7-4dd1-b02f-6b24ab7f2784",
   "metadata": {},
   "outputs": [],
   "source": [
    "@timeit_fixed()\n",
    "async def async_multiple(N):\n",
    "    tasks = [async_send_request() for _ in range(N)]\n",
    "    for task in asyncio.as_completed(tasks):\n",
    "        response = await task\n",
    "        print(f\"Response returned status code: {response.status_code if response else None}\")"
   ]
  },
  {
   "cell_type": "code",
   "execution_count": 206,
   "id": "4fee7434-5642-468e-8d0d-5e52ae443c6d",
   "metadata": {},
   "outputs": [
    {
     "name": "stdout",
     "output_type": "stream",
     "text": [
      "Total time elapsed for asynchronous function async_send_request: 0.069 seconds\n",
      "Response returned status code: 200\n",
      "Total time elapsed for asynchronous function async_send_request: 0.261 seconds\n",
      "Total time elapsed for asynchronous function async_send_request: 0.26 seconds\n",
      "Response returned status code: 200\n",
      "Response returned status code: 200\n",
      "Total time elapsed for asynchronous function async_send_request: 0.294 seconds\n",
      "Response returned status code: 200\n",
      "Total time elapsed for asynchronous function async_send_request: 0.397 seconds\n",
      "Total time elapsed for asynchronous function async_send_request: 0.396 seconds\n",
      "Response returned status code: 200\n",
      "Response returned status code: 200\n",
      "Total time elapsed for asynchronous function async_send_request: 0.493 seconds\n",
      "Response returned status code: 200\n",
      "Total time elapsed for asynchronous function async_send_request: 0.717 seconds\n",
      "Response returned status code: 200\n",
      "Total time elapsed for asynchronous function async_send_request: 0.825 seconds\n",
      "Response returned status code: 200\n",
      "Total time elapsed for asynchronous function async_send_request: 1.016 seconds\n",
      "Response returned status code: 200\n",
      "Total time elapsed for asynchronous function async_multiple: 1.018 seconds\n"
     ]
    }
   ],
   "source": [
    "await async_multiple(10)"
   ]
  },
  {
   "cell_type": "code",
   "execution_count": 207,
   "id": "7b347ac9-18d2-455e-8282-6ae91b96730f",
   "metadata": {},
   "outputs": [],
   "source": [
    "@timeit_fixed()\n",
    "def serial_send_request():\n",
    "    response = requests.get(URL)\n",
    "    return response"
   ]
  },
  {
   "cell_type": "code",
   "execution_count": 208,
   "id": "15b60b7d-e8ab-4322-b353-7a40a2761dc6",
   "metadata": {},
   "outputs": [],
   "source": [
    "@timeit_fixed()\n",
    "def serial_multiple(N):\n",
    "    for _ in range(N):\n",
    "        response = serial_send_request()\n",
    "        print(f\"Response returned status code: {response.status_code if response else \"None\"}\")"
   ]
  },
  {
   "cell_type": "code",
   "execution_count": 209,
   "id": "3ebc5236-4dea-4511-b9ae-3cde49ad9f58",
   "metadata": {},
   "outputs": [
    {
     "name": "stdout",
     "output_type": "stream",
     "text": [
      "Total time elapsed for synchronous function serial_send_request: 0.234 seconds\n",
      "Response returned status code: 200\n",
      "Total time elapsed for synchronous function serial_send_request: 0.764 seconds\n",
      "Response returned status code: 200\n",
      "Total time elapsed for synchronous function serial_send_request: 0.731 seconds\n",
      "Response returned status code: 200\n",
      "Total time elapsed for synchronous function serial_send_request: 0.134 seconds\n",
      "Response returned status code: 200\n",
      "Total time elapsed for synchronous function serial_send_request: 0.25 seconds\n",
      "Response returned status code: 200\n",
      "Total time elapsed for synchronous function serial_send_request: 0.348 seconds\n",
      "Response returned status code: 200\n",
      "Total time elapsed for synchronous function serial_send_request: 0.924 seconds\n",
      "Response returned status code: 200\n",
      "Total time elapsed for synchronous function serial_send_request: 0.067 seconds\n",
      "Response returned status code: 200\n",
      "Total time elapsed for synchronous function serial_send_request: 0.074 seconds\n",
      "Response returned status code: 200\n",
      "Total time elapsed for synchronous function serial_send_request: 0.062 seconds\n",
      "Response returned status code: 200\n",
      "Total time elapsed for synchronous function serial_multiple: 3.594 seconds\n"
     ]
    }
   ],
   "source": [
    "serial_multiple(10)"
   ]
  },
  {
   "cell_type": "markdown",
   "id": "9d1e02ad-6cec-4571-8d1b-224ea2750f98",
   "metadata": {},
   "source": [
    "The previous `@timeit` function decorator returned this erroneous output when the `await async_multiple()` command was executed:\n",
    "\n",
    "```\n",
    "Total time elapsed for function async_send_request: 0.0 seconds\n",
    "Total time elapsed for function async_send_request: 0.0 seconds\n",
    "Total time elapsed for function async_send_request: 0.0 seconds\n",
    "Total time elapsed for function async_send_request: 0.0 seconds\n",
    "Total time elapsed for function async_send_request: 0.0 seconds\n",
    "Total time elapsed for function async_send_request: 0.0 seconds\n",
    "Total time elapsed for function async_send_request: 0.0 seconds\n",
    "Total time elapsed for function async_send_request: 0.0 seconds\n",
    "Total time elapsed for function async_send_request: 0.0 seconds\n",
    "Total time elapsed for function async_send_request: 0.0 seconds\n",
    "Response returned status code: 200\n",
    "Response returned status code: 200\n",
    "Response returned status code: 200\n",
    "Response returned status code: 200\n",
    "Response returned status code: 200\n",
    "Response returned status code: 200\n",
    "Response returned status code: 200\n",
    "Response returned status code: 200\n",
    "Response returned status code: 200\n",
    "Response returned status code: 200\n",
    "```\n",
    "\n",
    "This is because the original `@timeit` decorator looked like this, failing to distinguish between asynchronous and synchronous functions:\n",
    "\n",
    "```\n",
    "def timeit(sig_fig=3):\n",
    "    def _timeit(func, *args, **kwargs):\n",
    "        def wrapper():\n",
    "            start_time = time()\n",
    "            ret = func(*args, **kwargs)\n",
    "            end_time = time()\n",
    "            elapsed_time = round(end_time - start_time, sig_fig)\n",
    "            print(f\"Total time elapsed for function {func.__name__}: {elapsed_time} seconds\")\n",
    "            return ret\n",
    "        # Set wrapper name to calling function name\n",
    "        wrapper.__name__ = func.__name__\n",
    "        return wrapper\n",
    "    return _timeit\n",
    "```\n",
    "\n",
    "Let's consider what happens when the `func` argument is asynchronous. In this case, the `func` call `ret = func(*args, **kwargs)` will return an awaitable coroutine object, and not the result of the actual asynchronous function itself. This causes the function execution to appear impossibly fast. This is due to the nature of asynchronous functions. They are designed to return immediately so as to yield control to the event loop, freeing up CPU cycles for something else to execute.\n",
    "\n",
    "The solution is to distinguish between asynchronous and non-asynchronous functions in the `timeit` decorator, like so:\n",
    "\n",
    "```\n",
    "def timeit_fixed(sig_fig=3):\n",
    "    def _timeit(func):\n",
    "        if inspect.iscoroutinefunction(func):\n",
    "            \n",
    "            @wraps(func)\n",
    "            async def async_wrapper(*args, **kwargs):\n",
    "                start_time = time()\n",
    "                ret = await func(*args, **kwargs)\n",
    "                end_time = time()\n",
    "                elapsed_time = round(end_time - start_time, sig_fig)\n",
    "                print(f\"Total time elapsed for asynchronous function {func.__name__}: {elapsed_time} seconds\")\n",
    "                return ret\n",
    "            wrapper = async_wrapper\n",
    "        else:\n",
    "\n",
    "            @wraps(func)\n",
    "            def sync_wrapper(*args, **kwargs):\n",
    "                start_time = time()\n",
    "                ret = func(*args, **kwargs)\n",
    "                end_time = time()\n",
    "                elapsed_time = round(end_time - start_time, sig_fig)\n",
    "                print(f\"Total time elapsed for synchronous function {func.__name__}: {elapsed_time} seconds\")\n",
    "                return ret\n",
    "            wrapper = sync_wrapper\n",
    "\n",
    "        return wrapper\n",
    "    return _timeit\n",
    "```\n",
    "Here we use a branching condition `inspect.iscoroutinefunction(func)` to check if the function passed in is async or not. If it is async, we return an async wrapper function, wrapped so as to `await` on it inside the function so we can time it correctly. The `await` keyword allows other async functions to execute concurrently and for their execution times to overlap. If isn't async, we do the same thing we did before. Now, we can handle async functions correctly. A note about this is that since functions are first-class citizens in Python, we can treat functions just like objects and do property checks on them and branching conditions to return different kinds of functions."
   ]
  },
  {
   "cell_type": "markdown",
   "id": "24c92494-f88a-47a4-a5cf-aa8ffb7b01b5",
   "metadata": {},
   "source": [
    "# Exercise: Parallelizing prime number checking: Find all prime numbers from 1-1 million 1) naively 2) by implementing asyncio.\n",
    "\n",
    "You can reference the section from fluent Python."
   ]
  },
  {
   "cell_type": "markdown",
   "id": "99cd0ed1-3af6-4dd2-bb91-787773645385",
   "metadata": {},
   "source": [
    "# Exercise: Do the TORNADO library exercises. GO DDEP into Tornado and figure out how it works! Almost like you have a new gadget on your desktop, tinker with it and figure out how it works!!"
   ]
  },
  {
   "cell_type": "code",
   "execution_count": null,
   "id": "fdca89ce-fed6-4fd9-bb71-0bafa0ba90ce",
   "metadata": {},
   "outputs": [],
   "source": []
  },
  {
   "cell_type": "markdown",
   "id": "a552c494-b6d3-4e3d-9a47-880c755be868",
   "metadata": {},
   "source": [
    "# Exercises: After reading distributed systems \"System Architecture\" section, set up two FastAPI / microservices Python modules, one pub and one sub, with and without asyncio and profile"
   ]
  },
  {
   "cell_type": "markdown",
   "id": "33fed2e1-8ea0-448c-a20a-06c90fa1c270",
   "metadata": {},
   "source": [
    "# Exercise: Refactor gazepointer module to use async / await syntax and test it out (write some tests) to make sure it works as desired"
   ]
  },
  {
   "cell_type": "code",
   "execution_count": 128,
   "id": "deef4a47-0d43-45fc-85a5-973039526e68",
   "metadata": {},
   "outputs": [
    {
     "name": "stdout",
     "output_type": "stream",
     "text": [
      "Python 3.12.10\n"
     ]
    }
   ],
   "source": [
    "!python --version"
   ]
  },
  {
   "cell_type": "markdown",
   "id": "8a1e60bb-f0ce-451b-aec0-e702ef90166c",
   "metadata": {},
   "source": [
    "# Bonus Exercise: Do some large-scale statistical analysis on simulated latency / response times and plot the statistical distributions and how well they conform to theoretically calculated values (long-tail latency and throughput analysis)"
   ]
  },
  {
   "cell_type": "markdown",
   "id": "62192705-4a6b-4a17-8e02-fb40cf24059d",
   "metadata": {},
   "source": [
    "# Bonus Exercise: Write your own static / dynamic code analysis tool to inspect a piece of static / running code with the `inspect` module, based on [this StackOverflow answer](https://stackoverflow.com/questions/36076619/test-if-function-or-method-is-normal-or-asynchronous)"
   ]
  },
  {
   "cell_type": "code",
   "execution_count": null,
   "id": "11914b59-7157-4026-82bc-b6a21aa0716f",
   "metadata": {},
   "outputs": [],
   "source": []
  }
 ],
 "metadata": {
  "kernelspec": {
   "display_name": "Python 3 (ipykernel)",
   "language": "python",
   "name": "python3"
  },
  "language_info": {
   "codemirror_mode": {
    "name": "ipython",
    "version": 3
   },
   "file_extension": ".py",
   "mimetype": "text/x-python",
   "name": "python",
   "nbconvert_exporter": "python",
   "pygments_lexer": "ipython3",
   "version": "3.12.10"
  }
 },
 "nbformat": 4,
 "nbformat_minor": 5
}
